{
  "nbformat": 4,
  "nbformat_minor": 0,
  "metadata": {
    "colab": {
      "provenance": []
    },
    "kernelspec": {
      "name": "python3",
      "display_name": "Python 3"
    },
    "language_info": {
      "name": "python"
    }
  },
  "cells": [
    {
      "cell_type": "code",
      "execution_count": null,
      "metadata": {
        "colab": {
          "base_uri": "https://localhost:8080/"
        },
        "id": "seW3AtMPy6Fl",
        "outputId": "f0bf857c-30a5-4a13-a91d-8b7f5166a7ae"
      },
      "outputs": [
        {
          "output_type": "stream",
          "name": "stdout",
          "text": [
            "P.Abhideep\n"
          ]
        }
      ],
      "source": [
        "print('P.Abhideep')"
      ]
    },
    {
      "cell_type": "code",
      "source": [],
      "metadata": {
        "id": "7LO0vs2b2pfX"
      },
      "execution_count": null,
      "outputs": []
    },
    {
      "cell_type": "code",
      "source": [
        "print(\"P.Abhideep\")"
      ],
      "metadata": {
        "colab": {
          "base_uri": "https://localhost:8080/"
        },
        "id": "NJtc_-2d0GCG",
        "outputId": "5d9ea85c-ffd8-4903-d901-94b99e7b9d09"
      },
      "execution_count": null,
      "outputs": [
        {
          "output_type": "stream",
          "name": "stdout",
          "text": [
            "P.Abhideep\n"
          ]
        }
      ]
    },
    {
      "cell_type": "code",
      "source": [
        "0+1+0+1+1+9+5+0\n"
      ],
      "metadata": {
        "colab": {
          "base_uri": "https://localhost:8080/"
        },
        "id": "lh2iauJi0P2g",
        "outputId": "1b706a7f-35b3-4c7b-adf9-42930865a4e2"
      },
      "execution_count": null,
      "outputs": [
        {
          "output_type": "execute_result",
          "data": {
            "text/plain": [
              "17"
            ]
          },
          "metadata": {},
          "execution_count": 9
        }
      ]
    },
    {
      "cell_type": "code",
      "source": [
        "0+2+1+1+2+0+0+5"
      ],
      "metadata": {
        "id": "LWTmDAzh1ifb"
      },
      "execution_count": null,
      "outputs": []
    },
    {
      "cell_type": "code",
      "source": [
        "0*2*1*1*2*0*0*5"
      ],
      "metadata": {
        "colab": {
          "base_uri": "https://localhost:8080/"
        },
        "id": "i2V3_F4l1IYZ",
        "outputId": "3bea5fb5-3b97-4286-b272-9ee2577c463a"
      },
      "execution_count": null,
      "outputs": [
        {
          "output_type": "execute_result",
          "data": {
            "text/plain": [
              "0"
            ]
          },
          "metadata": {},
          "execution_count": 8
        }
      ]
    },
    {
      "cell_type": "code",
      "source": [
        "x = \"P.Abhideep\"\n",
        "y = 19\n",
        "print(x)\n",
        "print(y)"
      ],
      "metadata": {
        "colab": {
          "base_uri": "https://localhost:8080/"
        },
        "id": "6t3pi9oC1pxP",
        "outputId": "2e4f9f97-be14-42d3-fa29-9761cfc97e55"
      },
      "execution_count": null,
      "outputs": [
        {
          "output_type": "stream",
          "name": "stdout",
          "text": [
            "P.Abhideep\n",
            "19\n"
          ]
        }
      ]
    },
    {
      "cell_type": "code",
      "source": [
        "x = str(5)\n",
        "y = int(3)\n",
        "z = float(3.92)\n",
        "print(x)\n",
        "print(y)\n",
        "print(z)"
      ],
      "metadata": {
        "colab": {
          "base_uri": "https://localhost:8080/"
        },
        "id": "fdiVooMI1_8y",
        "outputId": "49c11ee9-b962-4df2-ffe6-035606dbd2b6"
      },
      "execution_count": null,
      "outputs": [
        {
          "output_type": "stream",
          "name": "stdout",
          "text": [
            "5\n",
            "3\n",
            "3.92\n"
          ]
        }
      ]
    },
    {
      "cell_type": "code",
      "source": [
        "\n",
        "x = 3\n",
        "y = \"Abhi\"\n",
        "z = 2.0\n",
        "print(type(x))\n",
        "print(type(y))\n",
        "print(type(z))"
      ],
      "metadata": {
        "colab": {
          "base_uri": "https://localhost:8080/"
        },
        "id": "6v6Px5gw3OpI",
        "outputId": "241ba57d-167e-44a2-ba82-5e5b6015491f"
      },
      "execution_count": null,
      "outputs": [
        {
          "output_type": "stream",
          "name": "stdout",
          "text": [
            "<class 'int'>\n",
            "<class 'str'>\n",
            "<class 'float'>\n"
          ]
        }
      ]
    },
    {
      "cell_type": "code",
      "source": [
        "x = 3\n",
        "print(x)\n",
        "x = 'ABHI'\n",
        "print(x)"
      ],
      "metadata": {
        "colab": {
          "base_uri": "https://localhost:8080/"
        },
        "id": "zebzmHPp4DF6",
        "outputId": "080ee1c0-9733-45ed-fd30-c3a0cb3b6e44"
      },
      "execution_count": null,
      "outputs": [
        {
          "output_type": "stream",
          "name": "stdout",
          "text": [
            "3\n",
            "ABHI\n"
          ]
        }
      ]
    },
    {
      "cell_type": "code",
      "source": [
        "a = 4\n",
        "A =\"Abhi\"\n",
        "print(a)"
      ],
      "metadata": {
        "colab": {
          "base_uri": "https://localhost:8080/"
        },
        "id": "yirEVabZ5W15",
        "outputId": "b1a10eb4-0201-4746-dfe1-9d6b12ab00c5"
      },
      "execution_count": null,
      "outputs": [
        {
          "output_type": "stream",
          "name": "stdout",
          "text": [
            "4\n"
          ]
        }
      ]
    },
    {
      "cell_type": "code",
      "source": [
        "myvar = \"Abhi\"\n",
        "my_var = \"Abhi\"\n",
        "_my_var = \"Abhi\"\n",
        "myVar = \"Abhi\"\n",
        "MYVAR = \"Abhi\"\n",
        "myvar2 = \"Abhi\"\n",
        "print(myvar2)\n",
        "print(myvar)"
      ],
      "metadata": {
        "colab": {
          "base_uri": "https://localhost:8080/"
        },
        "id": "MC_BPluf5v0i",
        "outputId": "04862079-3a0b-4dc6-ef25-2c7c84531074"
      },
      "execution_count": null,
      "outputs": [
        {
          "output_type": "stream",
          "name": "stdout",
          "text": [
            "Abhi\n",
            "Abhi\n"
          ]
        }
      ]
    },
    {
      "cell_type": "code",
      "source": [
        "x,y,z = \"Orange\",\"Banana\",\"Cherry\"\n",
        "print(x)\n",
        "print(y)\n",
        "print(z)"
      ],
      "metadata": {
        "colab": {
          "base_uri": "https://localhost:8080/"
        },
        "id": "X-6FIPP26WkC",
        "outputId": "ba9eefeb-2c39-446f-9d38-e61124baa125"
      },
      "execution_count": null,
      "outputs": [
        {
          "output_type": "stream",
          "name": "stdout",
          "text": [
            "Orange\n",
            "Banana\n",
            "Cherry\n"
          ]
        }
      ]
    },
    {
      "cell_type": "code",
      "source": [
        "x = \"Abhi\"\n",
        "x_y = \"Abhi\"\n",
        "_x = \"Abhi\"\n",
        "x_y_ = \"Abhi\"\n",
        "z = \"Abhi\"\n",
        "z_ = \"Abhi\"\n",
        "_z = \"Abhi\"\n",
        "y = \"Abhi\"\n",
        "y_z = \"Abhi\"\n",
        "x_y_z = \"Abhi\"\n",
        "print(x)\n",
        "print(x_y)\n",
        "print(_x)\n",
        "print(x_y_)\n",
        "print(z_)\n",
        "print(_z)\n",
        "print(y)\n",
        "print(y_z)\n",
        "print(x_y_z)\n",
        "print(z)"
      ],
      "metadata": {
        "colab": {
          "base_uri": "https://localhost:8080/"
        },
        "id": "BdnfbhHl6tVo",
        "outputId": "ab396331-7bcf-4432-87c2-b333578d069d"
      },
      "execution_count": null,
      "outputs": [
        {
          "output_type": "stream",
          "name": "stdout",
          "text": [
            "Abhi\n",
            "Abhi\n",
            "Abhi\n",
            "Abhi\n",
            "Abhi\n",
            "Abhi\n",
            "Abhi\n",
            "Abhi\n",
            "Abhi\n",
            "Abhi\n"
          ]
        }
      ]
    },
    {
      "cell_type": "code",
      "source": [
        "fruit = [\"apple\",\"banana\",\"cherry\"]\n",
        "x , y , z = fruit\n",
        "print(x)\n",
        "print(y)\n",
        "print(z)"
      ],
      "metadata": {
        "colab": {
          "base_uri": "https://localhost:8080/"
        },
        "id": "P-oXvdEv9DES",
        "outputId": "c623d421-5dfd-4204-bdef-1f37bc8f06b0"
      },
      "execution_count": null,
      "outputs": [
        {
          "output_type": "stream",
          "name": "stdout",
          "text": [
            "apple\n",
            "banana\n",
            "cherry\n"
          ]
        }
      ]
    },
    {
      "cell_type": "code",
      "source": [
        "fruit = (\"apple\",\"banana\",\"cherry\")\n",
        "x,  y , z = fruit\n",
        "print(x)\n",
        "print(y)\n",
        "print(z)"
      ],
      "metadata": {
        "colab": {
          "base_uri": "https://localhost:8080/"
        },
        "id": "ZMPuWe2D9qYR",
        "outputId": "44994bcb-d1ad-4bfd-c85e-4fc56bdea06d"
      },
      "execution_count": null,
      "outputs": [
        {
          "output_type": "stream",
          "name": "stdout",
          "text": [
            "apple\n",
            "banana\n",
            "cherry\n"
          ]
        }
      ]
    },
    {
      "cell_type": "code",
      "source": [
        "fruit = {\"apple\",\"banana\",\"cherry\"}\n",
        "x , y , z = fruit\n",
        "print(x)\n",
        "print(y)\n",
        "print(z)"
      ],
      "metadata": {
        "colab": {
          "base_uri": "https://localhost:8080/"
        },
        "id": "u2Sf2m3p_FE7",
        "outputId": "0017abbd-fd35-4bad-b95d-c363e2fae602"
      },
      "execution_count": null,
      "outputs": [
        {
          "output_type": "stream",
          "name": "stdout",
          "text": [
            "{'apple'}\n",
            "cherry\n",
            "banana\n"
          ]
        }
      ]
    },
    {
      "cell_type": "code",
      "source": [
        "fruit = {\"apple\",\"banana\",\"cherry\",\"Orange\"}\n",
        "x , y , z  = fruit\n",
        "print(x)\n",
        "print(y)\n",
        "print(z)"
      ],
      "metadata": {
        "colab": {
          "base_uri": "https://localhost:8080/",
          "height": 210
        },
        "id": "0WYdpsc5_uQR",
        "outputId": "23cf75d2-71b2-400f-a8e8-93f3b02bac87"
      },
      "execution_count": null,
      "outputs": [
        {
          "output_type": "error",
          "ename": "ValueError",
          "evalue": "too many values to unpack (expected 3)",
          "traceback": [
            "\u001b[0;31m---------------------------------------------------------------------------\u001b[0m",
            "\u001b[0;31mValueError\u001b[0m                                Traceback (most recent call last)",
            "\u001b[0;32m<ipython-input-40-9be9d46fb061>\u001b[0m in \u001b[0;36m<cell line: 2>\u001b[0;34m()\u001b[0m\n\u001b[1;32m      1\u001b[0m \u001b[0mfruit\u001b[0m \u001b[0;34m=\u001b[0m \u001b[0;34m{\u001b[0m\u001b[0;34m\"apple\"\u001b[0m\u001b[0;34m,\u001b[0m\u001b[0;34m\"banana\"\u001b[0m\u001b[0;34m,\u001b[0m\u001b[0;34m\"cherry\"\u001b[0m\u001b[0;34m,\u001b[0m\u001b[0;34m\"Orange\"\u001b[0m\u001b[0;34m}\u001b[0m\u001b[0;34m\u001b[0m\u001b[0;34m\u001b[0m\u001b[0m\n\u001b[0;32m----> 2\u001b[0;31m \u001b[0mx\u001b[0m \u001b[0;34m,\u001b[0m \u001b[0my\u001b[0m \u001b[0;34m,\u001b[0m \u001b[0mz\u001b[0m  \u001b[0;34m=\u001b[0m \u001b[0mfruit\u001b[0m\u001b[0;34m\u001b[0m\u001b[0;34m\u001b[0m\u001b[0m\n\u001b[0m\u001b[1;32m      3\u001b[0m \u001b[0mprint\u001b[0m\u001b[0;34m(\u001b[0m\u001b[0mx\u001b[0m\u001b[0;34m)\u001b[0m\u001b[0;34m\u001b[0m\u001b[0;34m\u001b[0m\u001b[0m\n\u001b[1;32m      4\u001b[0m \u001b[0mprint\u001b[0m\u001b[0;34m(\u001b[0m\u001b[0my\u001b[0m\u001b[0;34m)\u001b[0m\u001b[0;34m\u001b[0m\u001b[0;34m\u001b[0m\u001b[0m\n\u001b[1;32m      5\u001b[0m \u001b[0mprint\u001b[0m\u001b[0;34m(\u001b[0m\u001b[0mz\u001b[0m\u001b[0;34m)\u001b[0m\u001b[0;34m\u001b[0m\u001b[0;34m\u001b[0m\u001b[0m\n",
            "\u001b[0;31mValueError\u001b[0m: too many values to unpack (expected 3)"
          ]
        }
      ]
    },
    {
      "cell_type": "code",
      "source": [
        "thisdict = {\n",
        "    \"brand\" : \"Ford\",\n",
        "    \"model\" : \"Mustang\",\n",
        "    \"year\" : 1964\n",
        "}\n",
        "print(thisdict)"
      ],
      "metadata": {
        "colab": {
          "base_uri": "https://localhost:8080/"
        },
        "id": "La2JJNiBBYZZ",
        "outputId": "867bd166-990d-4057-d3da-5157ecee5320"
      },
      "execution_count": null,
      "outputs": [
        {
          "output_type": "stream",
          "name": "stdout",
          "text": [
            "{'brand': 'Ford', 'model': 'Mustang', 'year': 1964}\n"
          ]
        }
      ]
    },
    {
      "cell_type": "code",
      "source": [
        "x = \"brand\"\n",
        "y = \"model\"\n",
        "z = \"year\"\n",
        "print(x  +y + z)"
      ],
      "metadata": {
        "colab": {
          "base_uri": "https://localhost:8080/"
        },
        "id": "_ZFoW2eKDVwS",
        "outputId": "c24f1bd0-d0e9-4e15-8373-b20373cb8f13"
      },
      "execution_count": null,
      "outputs": [
        {
          "output_type": "stream",
          "name": "stdout",
          "text": [
            "brandmodelyear\n"
          ]
        }
      ]
    },
    {
      "cell_type": "code",
      "source": [
        "import sys as abhideep\n",
        "print(sys.abhideep)"
      ],
      "metadata": {
        "colab": {
          "base_uri": "https://localhost:8080/",
          "height": 158
        },
        "id": "OASO9Dp9D-iR",
        "outputId": "f8a371ec-56b2-49fa-e119-4a8446f417f8"
      },
      "execution_count": null,
      "outputs": [
        {
          "output_type": "error",
          "ename": "AttributeError",
          "evalue": "module 'sys' has no attribute 'abhideep'",
          "traceback": [
            "\u001b[0;31m---------------------------------------------------------------------------\u001b[0m",
            "\u001b[0;31mAttributeError\u001b[0m                            Traceback (most recent call last)",
            "\u001b[0;32m<ipython-input-57-bed30da8e913>\u001b[0m in \u001b[0;36m<cell line: 2>\u001b[0;34m()\u001b[0m\n\u001b[1;32m      1\u001b[0m \u001b[0;32mimport\u001b[0m \u001b[0msys\u001b[0m \u001b[0;32mas\u001b[0m \u001b[0mabhideep\u001b[0m\u001b[0;34m\u001b[0m\u001b[0;34m\u001b[0m\u001b[0m\n\u001b[0;32m----> 2\u001b[0;31m \u001b[0mprint\u001b[0m\u001b[0;34m(\u001b[0m\u001b[0msys\u001b[0m\u001b[0;34m.\u001b[0m\u001b[0mabhideep\u001b[0m\u001b[0;34m)\u001b[0m\u001b[0;34m\u001b[0m\u001b[0;34m\u001b[0m\u001b[0m\n\u001b[0m",
            "\u001b[0;31mAttributeError\u001b[0m: module 'sys' has no attribute 'abhideep'"
          ]
        }
      ]
    },
    {
      "cell_type": "code",
      "source": [
        "if 5 > 2:\n",
        " print(\"Five is greater than two\")"
      ],
      "metadata": {
        "colab": {
          "base_uri": "https://localhost:8080/"
        },
        "id": "VsS3_SZPFjdm",
        "outputId": "6fc25fdd-451a-497d-baf7-913dfb374087"
      },
      "execution_count": null,
      "outputs": [
        {
          "output_type": "stream",
          "name": "stdout",
          "text": [
            "Five is greater than two\n"
          ]
        }
      ]
    },
    {
      "cell_type": "code",
      "source": [
        "a = 200\n",
        "b = 33\n",
        "if b > a:\n",
        "  print(\"b is greater than a\")\n",
        "  elif a==b:\n",
        "    print(\"a and b are equal\")\n",
        "    else:\n",
        "      print(\"a is greater than b\")"
      ],
      "metadata": {
        "colab": {
          "base_uri": "https://localhost:8080/",
          "height": 106
        },
        "id": "5GloAczQGOs3",
        "outputId": "cc9aa899-66db-4107-d26b-11cd797ed450"
      },
      "execution_count": null,
      "outputs": [
        {
          "output_type": "error",
          "ename": "SyntaxError",
          "evalue": "invalid syntax (<ipython-input-59-d3fab3776669>, line 5)",
          "traceback": [
            "\u001b[0;36m  File \u001b[0;32m\"<ipython-input-59-d3fab3776669>\"\u001b[0;36m, line \u001b[0;32m5\u001b[0m\n\u001b[0;31m    elif a==b:\u001b[0m\n\u001b[0m    ^\u001b[0m\n\u001b[0;31mSyntaxError\u001b[0m\u001b[0;31m:\u001b[0m invalid syntax\n"
          ]
        }
      ]
    },
    {
      "cell_type": "code",
      "source": [
        "from collections import deque\n",
        "def bfs(g,s):\n",
        "  q = deque([s])\n",
        "  v = set()\n",
        "  v.add(s)\n",
        "  while q:\n",
        "    n = q.popleft()\n",
        "    print(n,end=\" \")\n",
        "    for i in g[n]:\n",
        "      if i not in v:\n",
        "        v.add(i)\n",
        "        q.append(i)\n",
        "\n",
        "g={'A':['B','C'],\n",
        "   'B':['D','E'],\n",
        "   'C':['F'],\n",
        "   'D':[],\n",
        "   'E':[],\n",
        "   'F':[]\n",
        "   }\n",
        "bfs(g,'A')"
      ],
      "metadata": {
        "colab": {
          "base_uri": "https://localhost:8080/"
        },
        "id": "o6A34YY62sWq",
        "outputId": "62419d6c-f45c-4aed-dea8-941d62716297"
      },
      "execution_count": null,
      "outputs": [
        {
          "output_type": "stream",
          "name": "stdout",
          "text": [
            "A B C D E F "
          ]
        }
      ]
    },
    {
      "cell_type": "code",
      "source": [
        "class Base:\n",
        "    def __init__(self):\n",
        "\n",
        "        self._a = 2\n",
        "\n",
        "\n",
        "class Derived(Base):\n",
        "    def __init__(self):\n",
        "\n",
        "\n",
        "        Base.__init__(self)\n",
        "        print(\"Calling protected member of base class: \",\n",
        "              self._a)\n",
        "\n",
        "\n",
        "        self._a = 3\n",
        "        print(\"Calling modified protected member outside class: \",\n",
        "              self._a)\n",
        "\n",
        "\n",
        "obj1 = Derived()\n",
        "\n",
        "obj2 = Base()\n",
        "print(\"Accessing protected member of obj1: \", obj1._a)\n",
        "print(\"Accessing protected member of obj2: \", obj2._a)"
      ],
      "metadata": {
        "colab": {
          "base_uri": "https://localhost:8080/"
        },
        "id": "8Fn86Dbq9R49",
        "outputId": "65dcdc6a-0ebf-4d1b-c9d7-d93dfd2d4b06"
      },
      "execution_count": null,
      "outputs": [
        {
          "output_type": "stream",
          "name": "stdout",
          "text": [
            "Calling protected member of base class:  2\n",
            "Calling modified protected member outside class:  3\n",
            "Accessing protected member of obj1:  3\n",
            "Accessing protected member of obj2:  2\n"
          ]
        }
      ]
    },
    {
      "cell_type": "code",
      "source": [
        "\n",
        "from collections import defaultdict\n",
        "\n",
        "\n",
        "\n",
        "class Graph:\n",
        "\n",
        "\tdef __init__(self):\n",
        "\n",
        "\t\tself.graph = defaultdict(list)\n",
        "\n",
        "\n",
        "\tdef addEdge(self, u, v):\n",
        "\t\tself.graph[u].append(v)\n",
        "\n",
        "\n",
        "\tdef DFSUtil(self, v, visited):\n",
        "\n",
        "\n",
        "\t\tvisited.add(v)\n",
        "\t\tprint(v, end=' ')\n",
        "\n",
        "\t\tfor neighbour in self.graph[v]:\n",
        "\t\t\tif neighbour not in visited:\n",
        "\t\t\t\tself.DFSUtil(neighbour, visited)\n",
        "\n",
        "\n",
        "\tdef DFS(self, v):\n",
        "\n",
        "\t\tvisited = set()\n",
        "\n",
        "\t\tself.DFSUtil(v, visited)\n",
        "\n",
        "\n",
        "if __name__ == \"__main__\":\n",
        "\tg = Graph()\n",
        "\tg.addEdge(0, 1)\n",
        "\tg.addEdge(0, 2)\n",
        "\tg.addEdge(1, 2)\n",
        "\tg.addEdge(2, 0)\n",
        "\tg.addEdge(2, 3)\n",
        "\tg.addEdge(3, 3)\n",
        "\n",
        "\tprint(\"Following is Depth First Traversal (starting from vertex 2)\")\n",
        "\n",
        "\tg.DFS(2)\n",
        "\n"
      ],
      "metadata": {
        "colab": {
          "base_uri": "https://localhost:8080/"
        },
        "id": "gwKse4RHBMRM",
        "outputId": "3c61fdeb-4992-4d40-cd94-e807daaac1e5"
      },
      "execution_count": null,
      "outputs": [
        {
          "output_type": "stream",
          "name": "stdout",
          "text": [
            "Following is Depth First Traversal (starting from vertex 2)\n",
            "2 0 1 3 "
          ]
        }
      ]
    },
    {
      "cell_type": "code",
      "source": [
        "from collections import defaultdict\n",
        "\n",
        "class Graph:\n",
        "\n",
        "    def __init__(self,vertices):\n",
        "\n",
        "        self.V = vertices\n",
        "\n",
        "        self.graph = defaultdict(list)\n",
        "\n",
        "    def addEdge(self,u,v):\n",
        "        self.graph[u].append(v)\n",
        "\n",
        "\n",
        "    def DLS(self,src,target,maxDepth):\n",
        "\n",
        "        if src == target : return True\n",
        "\n",
        "        if maxDepth <= 0 : return False\n",
        "\n",
        "        for i in self.graph[src]:\n",
        "                if(self.DLS(i,target,maxDepth-1)):\n",
        "                    return True\n",
        "        return False\n",
        "\n",
        "    def IDDFS(self,src, target, maxDepth):\n",
        "\n",
        "        for i in range(maxDepth):\n",
        "            if (self.DLS(src, target, i)):\n",
        "                return True\n",
        "        return False\n",
        "g = Graph (7);\n",
        "g.addEdge(0, 1)\n",
        "g.addEdge(0, 2)\n",
        "g.addEdge(1, 3)\n",
        "g.addEdge(1, 4)\n",
        "g.addEdge(2, 5)\n",
        "g.addEdge(2, 6)\n",
        "\n",
        "target = 6; maxDepth = 3; src = 0\n",
        "\n",
        "if g.IDDFS(src, target, maxDepth) == True:\n",
        "    print (\"Target is reachable from source \" +\n",
        "        \"within max depth\")\n",
        "else :\n",
        "    print (\"Target is NOT reachable from source \" +\n",
        "        \"within max depth\")"
      ],
      "metadata": {
        "colab": {
          "base_uri": "https://localhost:8080/"
        },
        "id": "ZMwXm-35ES_n",
        "outputId": "5aa0f62a-a7ba-49d9-fe8e-6a9e549c600a"
      },
      "execution_count": null,
      "outputs": [
        {
          "output_type": "stream",
          "name": "stdout",
          "text": [
            "Target is reachable from source within max depth\n"
          ]
        }
      ]
    }
  ]
}